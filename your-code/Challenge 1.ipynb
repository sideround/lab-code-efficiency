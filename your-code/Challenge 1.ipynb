{
 "cells": [
  {
   "cell_type": "markdown",
   "metadata": {},
   "source": [
    "# Challenge 1\n",
    "\n",
    "This is a dumb calculator that can add and subtract whole numbers from zero to five.\n",
    "When you run the code, you are prompted to enter two numbers (in the form of English\n",
    "word instead of number) and the operator sign (also in the form of English word).\n",
    "The code will perform the calculation and give the result if your input is what it\n",
    "expects.\n",
    "\n",
    "The code is very long and messy. Refactor it according to what you have learned about\n",
    "code simplicity and efficiency."
   ]
  },
  {
   "cell_type": "code",
   "execution_count": 13,
   "metadata": {},
   "outputs": [
    {
     "name": "stdout",
     "output_type": "stream",
     "text": [
      "Welcome to this calculator!\n",
      "It can add and subtract whole numbers from zero to five\n",
      "Please choose your first number (zero to five): five\n",
      "What do you want to do? plus or minus: minus\n",
      "Please choose your second number (zero to five): one\n",
      "five minus one equals four\n",
      "Thanks for using this calculator, goodbye :)\n"
     ]
    }
   ],
   "source": [
    "import operator\n",
    "\n",
    "print('Welcome to this calculator!')\n",
    "print('It can add and subtract whole numbers from zero to five')\n",
    "a = input('Please choose your first number (zero to five): ')\n",
    "b = input('What do you want to do? plus or minus: ')\n",
    "c = input('Please choose your second number (zero to five): ')\n",
    "\n",
    "string_number_dict = {\"zero\": 0, \"one\": 1, \"two\": 2, \"three\": 3, \"four\": 4, \"five\": 5}\n",
    "operator_dict = {\"plus\": operator.add, \"minus\": operator.sub}\n",
    "\n",
    "def check_possible_convert(keys):\n",
    "    is_possible_convert = True\n",
    "    for key in keys:\n",
    "        if key not in string_number_dict.keys():\n",
    "            is_possible_convert = False\n",
    "    return is_possible_convert\n",
    "\n",
    "def convert_string_to_number(key):\n",
    "    return string_number_dict[key] if key in string_number_dict.keys() else 0\n",
    "\n",
    "def convert_number_to_string(key):\n",
    "    for number in string_number_dict:\n",
    "        if string_number_dict[number] == key:\n",
    "            return number\n",
    "\n",
    "def calculate(first_number_string, second_number_string, operator):\n",
    "    if check_possible_convert([first_number_string, second_number_string]):\n",
    "        first_number = convert_string_to_number(first_number_string)\n",
    "        second_number = convert_string_to_number(second_number_string)\n",
    "        result = operator_dict[operator](first_number, second_number)\n",
    "        print(f\"{first_number_string} {operator} {second_number_string} equals {convert_number_to_string(result)}\")\n",
    "    else: \n",
    "        print(\"I am not able to answer this question. Check your input.\")\n",
    "\n",
    "calculate(a, c, b)\n",
    "\n",
    "print(\"Thanks for using this calculator, goodbye :)\")"
   ]
  }
 ],
 "metadata": {
  "kernelspec": {
   "display_name": "Python 3",
   "language": "python",
   "name": "python3"
  },
  "language_info": {
   "codemirror_mode": {
    "name": "ipython",
    "version": 3
   },
   "file_extension": ".py",
   "mimetype": "text/x-python",
   "name": "python",
   "nbconvert_exporter": "python",
   "pygments_lexer": "ipython3",
   "version": "3.7.4"
  }
 },
 "nbformat": 4,
 "nbformat_minor": 2
}
