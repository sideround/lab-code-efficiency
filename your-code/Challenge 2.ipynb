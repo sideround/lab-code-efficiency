{
 "cells": [
  {
   "cell_type": "markdown",
   "metadata": {},
   "source": [
    "# Challenge 2"
   ]
  },
  {
   "cell_type": "markdown",
   "metadata": {},
   "source": [
    "The code below generates a given number of random strings that consists of numbers and \n",
    "lower case English letters. You can also define the range of the variable lengths of\n",
    "the strings being generated.\n",
    "\n",
    "The code is functional but has a lot of room for improvement. Use what you have learned\n",
    "about simple and efficient code, refactor the code."
   ]
  },
  {
   "cell_type": "code",
   "execution_count": 32,
   "metadata": {},
   "outputs": [],
   "source": [
    "import random\n",
    "import string\n",
    "\n",
    "def RandomStringGenerator(length=12):\n",
    "    candidates = string.ascii_lowercase+string.digits\n",
    "    return ''.join(random.sample(candidates,length))"
   ]
  },
  {
   "cell_type": "code",
   "execution_count": 53,
   "metadata": {},
   "outputs": [],
   "source": [
    "def BatchStringGenerator(number_strings, min_string_length=8, max_string_length=12):\n",
    "    \n",
    "    if min_string_length < max_string_length:\n",
    "        return [RandomStringGenerator(random.choice(range(min_string_length, max_string_length))) for string in range(number_strings)]\n",
    "    elif min_string_length == max_string_length:\n",
    "        return RandomStringGenerator(min_string_length)\n",
    "    else:\n",
    "        print(\"Incorrect min and max string lengths. Try again.\")"
   ]
  },
  {
   "cell_type": "code",
   "execution_count": 54,
   "metadata": {},
   "outputs": [
    {
     "name": "stdout",
     "output_type": "stream",
     "text": [
      "Enter minimum string length: 1\n",
      "Enter maximum string length: 20\n",
      "How many random strings to generate? 5\n",
      "['towv6xb78ecn4', '1l7', 'yh7lgax1', 'ru', 'c2']\n"
     ]
    }
   ],
   "source": [
    "a = input('Enter minimum string length: ')\n",
    "b = input('Enter maximum string length: ')\n",
    "n = input('How many random strings to generate? ')\n",
    "\n",
    "print(BatchStringGenerator(int(n), int(a), int(b)))"
   ]
  }
 ],
 "metadata": {
  "kernelspec": {
   "display_name": "Python 3",
   "language": "python",
   "name": "python3"
  },
  "language_info": {
   "codemirror_mode": {
    "name": "ipython",
    "version": 3
   },
   "file_extension": ".py",
   "mimetype": "text/x-python",
   "name": "python",
   "nbconvert_exporter": "python",
   "pygments_lexer": "ipython3",
   "version": "3.7.4"
  }
 },
 "nbformat": 4,
 "nbformat_minor": 2
}
